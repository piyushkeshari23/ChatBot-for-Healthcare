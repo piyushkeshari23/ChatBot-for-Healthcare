{
  "nbformat": 4,
  "nbformat_minor": 0,
  "metadata": {
    "colab": {
      "name": "ChatBot.ipynb",
      "provenance": [],
      "collapsed_sections": []
    },
    "kernelspec": {
      "name": "python3",
      "display_name": "Python 3"
    },
    "language_info": {
      "name": "python"
    }
  },
  "cells": [
    {
      "cell_type": "code",
      "metadata": {
        "colab": {
          "base_uri": "https://localhost:8080/"
        },
        "id": "GsEW3r81CIGh",
        "outputId": "07dc9893-702e-4664-856d-5bc3d1ce320c"
      },
      "source": [
        
        "from google.colab import drive\n",
        "\n",
        
        "drive.mount('/content/drive')"
      ],
      "execution_count": 1,
      "outputs": [
        {
          "output_type": "stream",
          "text": [
            "Mounted at /content/drive\n"
          ],
          "name": "stdout"
        }
      ]
    },
    {
      "cell_type": "code",
      "metadata": {
        "id": "UIP1_mxESm1c"
      },
      "source": [
        "!unzip -uq \"/content/drive/My Drive/ChatBots/PClub-Project-master.zip\" -d \"/content\""
      ],
      "execution_count": 2,
      "outputs": []
    },
    {
      "cell_type": "code",
      "metadata": {
        "id": "FW7mg4CsTLco"
      },
      "source": [
        "from __future__ import print_function\n",
        "from gensim.parsing.preprocessing import strip_non_alphanum, preprocess_string\n",
        "from gensim.corpora.dictionary import Dictionary\n",
        "from keras.models import load_model\n",
        "import numpy as np\n",
        "import os\n",
        "import subprocess\n",
        "import time\n",
        "import random\n",
        "\n",
        "os.environ['TF_CPP_MIN_LOG_LEVEL']='2'\n",
        "\n",
        "\n",
        
        "\n",
        "try:\n",
        "    model = load_model('/content/PClub-Project-master/SentimentAnalysis/model_nn.h5')\n",
        "except IOError:\n",
        "    if 'model_nn.tar.gz' not in os.listdir('/content/PClub-Project-master/SentimentAnalysis'):\n",
        "        raise IOError(\"Could not find Sentiment Analysis model. Ensure model is present in: ./model\")\n",
        "    else:\n",
        "        process = subprocess.Popen(\"cd SentimentAnalysis/; \"\\\n",
        "                                   \"tar -zxf model_nn.tar.gz; cd ..\",\n",
        "                                   shell=True, stdout=subprocess.PIPE)\n",
        "        process.wait()\n",
        "        model = load_model('/content/PClub-Project-master/SentimentAnalysis/model_nn.h5')\n",
        "vocab = Dictionary.load('/content/PClub-Project-master/SentimentAnalysis/vocab_sentiment')"
      ],
      "execution_count": 3,
      "outputs": []
    },
    {
      "cell_type": "code",
      "metadata": {
        "id": "0n8KmrDc6pai"
      },
      "source": [
        "def predict(text):\n",
        "    preprocessed = [word[:-3] if word[-3:] == 'xxx' else word for word in\n",
        "                    preprocess_string(text.replace('not', 'notxxx'))]\n",
        "    text_col = [(vocab.token2id[word] + 1) for word in preprocessed\n",
        "                if word in vocab.token2id.keys()]\n",
        "    text_col = [text_col]\n",
        "    tweet_l = 20\n",
        "    if len(text_col[0]) < tweet_l:\n",
        "        for i in range(tweet_l - len(text_col[0])):\n",
        "            text_col[0].append(0)\n",
        "    elif len(text_col[0]) > tweet_l:\n",
        "        while len(text_col[-1]) > tweet_l:\n",
        "            text_col.append(text_col[-1][tweet_l:])\n",
        "            text_col[-2] = text_col[-2][:tweet_l]\n",
        "    prediction = 0\n",
        "    for txt in text_col:\n",
        "        prediction += model.predict(np.array([txt]), batch_size=1)\n",
        "    prediction /= len(text_col)\n",
        "    return prediction\n",
        "\n",
        "quit = 'It was great to have you with us '\\\n",
        "           'I feel you also enjoyed the conversation.\\nBest of fortunes for your bright future'\\\n",
        "           ' If you ever feel low again remember I will be there for you. Good Bye!'\\"
      ],
      "execution_count": 4,
      "outputs": []
    },
    {
      "cell_type": "code",
      "metadata": {
        "id": "bCh-ZSm863TG"
      },
      "source": [
        "def frnd():\n",
        "    reply = input('How are things going between you and your friends?'\\\n",
        "                     '\\n')\n",
        "    if(predict(reply) >=0.4):\n",
        "        reply = input('Did you separated from someone recently?\\n')\n",
        "        if(predict(reply)>=0.4):\n",
        "            print(name + \", Don't feel low. Take your time to heal properly,\"\\\n",
        "                        \"Look over what's happened, learn from it, and find ways to deal with it\"\\\n",
        "                        \"and begin with a new happy life.\\nWe all want to \"\\\n",
        "                        \"be cheerful. What some people need is another person  \"\\\n",
        "                        \"to complete them, and for rest, it indicates completing \"\\\n",
        "                        \"the situation by own.\\n In case, to find the right \"\\\n",
        "                        \"person, you yourself have to be the one. What's more interesting is \"\\\n",
        "                        \"over the long distance, your desires will encouage your own \"\\\n",
        "                        \"self joyful completion.\")\n",
        "            print(quit)\n",
        "        else:\n",
        "            print(name + \", Try not to take Stress.\\n You may be at a point where right individual \"\\\n",
        "                        \"people are not in your life right now. That happens in \"\\\n",
        "                        \"life from time to time.\\nIt is more smart to be a long way from  \"\\\n",
        "                        \"incongruent people and those people are pulled in to you when you put \"\\\n",
        "                        \"on an act to be someone you aren't.\\nBe as different as you truly \"\\\n",
        "                        \"appear to be, become more familiar with yourself at a significant \"\\\n",
        "                        \"level, respect your uniqueness, interface with people really, and \"\\\n",
        "                        \"over the long drag everyone who recognize you will see and be drawn\"\\\n",
        "                        \"in.\")\n",
        "            print(quit)\n",
        "    else:\n",
        "        print(\"Numerous people tend to expect unnecessarily from others, their \"\\\n",
        "              \"family, their mates or even partners.\\nIt's a normal slip-up, people \"\\\n",
        "              \"don't figure correctly the manner in which you do. Don't let the \"\\\n",
        "              \"notions of others impact you to neglect what you merit.\\nYou are not \"\\\n",
        "              \"in this world to fulfill the expectations of others, nor should you\"\\\n",
        "              \"feel that others are here to fulfill yours.\\nThe starting advance you\"\\\n",
        "              \"should take if you need to sort out some way to stop expecting \"\\\n",
        "              \"excessively from people is to simply recognize and recognize how \"\\\n",
        "              \"nobody is perfect and that everyone submits blunders on occasion. \")\n",
        "              \n",
        "        print(quit)"
      ],
      "execution_count": 5,
      "outputs": []
    },
    {
      "cell_type": "code",
      "metadata": {
        "id": "Ua9K8E4C7AXh"
      },
      "source": [
        "def family():\n",
        "    print(name + \" Don't take too much pressure. You should have some change in yourself and \"\\\n",
        "                \"your needs.\\nDo whatever it takes not to go facing futile commitments and \"\\\n",
        "                \"obligations.\\nConsult people whose feelings you trust, and get \"\\\n",
        "                \"specific advice when issues emerge.\\nYou ought to use pressure \"\\\n",
        "                \"organization methodologies and reliably pursue the best.\\n\"\\\n",
        "                \"These conditions arise in everyone's life and what is \"\\\n",
        "                \"significant the most is taking the right decision at such minutes.\")\n",
        "    print(quit)"
      ],
      "execution_count": 6,
      "outputs": []
    },
    {
      "cell_type": "code",
      "metadata": {
        "id": "qw0-aHeJ7HC5"
      },
      "source": [
        "def work():\n",
        "    print(name + \", Do whatever it takes not to take excessive pressure. I can show some \"\\\n",
        "                  \"amazingly cool ways to deal with it.\\nYou should make sound \"\\\n",
        "                  \"responses which fuse doing standard exercise and taking extraordinary \"\\\n",
        "                  \"quality rest.\\n You should have clear cutoff points between your work  \"\\\n",
        "                  \"or educational life and home life so you guarantee that you don't mix\"\\\n",
        "                  \"them.Techniques, for instance, examination and significant breathing \"\\\n",
        "                  \"exercises can be really helping in moderating stress.\\n Always put  \"\\\n",
        "                  \"away freedom to revive to avoid the adverse consequences of endless \"\\\n",
        "                  \"pressing factor what's more, burnout.\\n We expect time to re-energize \"\\\n",
        "                  \"and return to our pre sensation of uneasiness of working.\")\n",
        "    print(quit)"
      ],
      "execution_count": 7,
      "outputs": []
    },
    {
      "cell_type": "code",
      "metadata": {
        "id": "8gkub7OE7Mgw"
      },
      "source": [
        "def upset1():\n",
        "    reply = input('I got your point. Looks like there is something\\'s bothering you.'\\\n",
        "                     'Can you describe it, briefly?\\n')\n",
        "    if(predict(reply)>=0.4):\n",
        "        reply = input('It looks like, the problem is quite '\\\n",
        "                         'worrying, it may not actually be extraordinary.  '\\\n",
        "                         'What are your thoughts on this?\\n')\n",
        "        if(predict(reply)>=0.5):\n",
        "            reply = input('Apparently you agree with me. Wanna close down?\\n')\n",
        "            if(predict(reply)>0.55):\n",
        "                print(\"That's alright. It was a great conversation. I am always \"\\\n",
        "                      \"here for you.\\nGood Bye \" + name + \"!\")\n",
        "            else:\n",
        "                upset3() \n",
        "        else:\n",
        "            upset3()\n",
        "    else:\n",
        "        upset2()"
      ],
      "execution_count": 8,
      "outputs": []
    },
    {
      "cell_type": "code",
      "metadata": {
        "id": "OLXaN4ee7ZMA"
      },
      "source": [
        "def upset2():\n",
        "    reply = input('It would be great if you dont hesitate to share your feelings ' + name +\\\n",
        "                     ', consider me as your friend.\\n')\n",
        "\n",
        "    if(predict(reply)>=0.3):\n",
        "        reply = input('I see. Among the thoughts occuring in your mind, '\\\n",
        "                         'which one disturbs you the most?\\n')\n",
        "        reply = input('Why do you think it disturbs you?\\n')\n",
        "        print(\"Okay. You just discovered what we call an sudden belief. \"\\\n",
        "              \"Everybody has them. They are beliefs that suddenly comes to our \"\\\n",
        "              \"mind without any trouble on our side.\\nApparently the \"\\\n",
        "              \"thought occurs so quickly that we don't even notice it, but it has an \"\\\n",
        "              \"effect on our feeling. It's generally the sentiment that we \"\\\n",
        "              \"consider, in place of feeling.\\nUsually these sudden \"\\\n",
        "              \"feelings are distorted in some way but we generally don't stop \"\\\n",
        "              \"to question the logic of the thought. But now, that's \"\\\n",
        "              \"what we are going to do.\")\n",
        "        reply = input('So, ' + name + ', are there signs that inverse '\\\n",
        "                         'could be valid?\\n')\n",
        "\n",
        "        if(predict(reply)>=0.4):\n",
        "            print(\"I'm glad that you get that the opposite could be  \"\\\n",
        "                  \"certified. The explanation these are called 'bogus feelings' is  \"\\\n",
        "                  \"since they are exceptional techniques for seeing the world.\\n\"\\\n",
        "                  \"They are dull or white and dismissal the shades of faint in \"\\\n",
        "                  \"between.\\nSince you have gotten some answers concerning this cool \"\\\n",
        "                  \"methodology, you can apply it on a huge segment of the issues that \"\\\n",
        "                  \"you will stand up to.\\nIf not withstanding all that you feel stuck whenever, you \"\\\n",
        "                  \"can just encounter with me. Best of fortunes for your future \"\\\n",
        "                  \"endeavors. Bye!\")\n",
        "        else:\n",
        "            upset4()\n",
        "    else:\n",
        "        upset4()"
      ],
      "execution_count": 9,
      "outputs": []
    },
    {
      "cell_type": "code",
      "metadata": {
        "id": "QDXncy7J7ivZ"
      },
      "source": [
        "def upset3():\n",
        "    reply = input('Feel comfortable. Would you have the alternative to quickly clarify about your '\\\n",
        "                     'day?\\n')\n",
        "    reply = input('What work takes large part of your '\\\n",
        "                     'day?\\n')\n",
        "    reply = input('It would appear that you may feel great talking '\\\n",
        "                     'about yourself. Can you share your feelings?\\n')\n",
        "    if(predict(reply)>=0.3):\n",
        "        upset2()\n",
        "    else:\n",
        "        upset4()"
      ],
      "execution_count": 10,
      "outputs": []
    },
    {
      "cell_type": "code",
      "metadata": {
        "id": "ek6b-IxD7s6h"
      },
      "source": [
        "def upset4():\n",
        "    print(\"My sensitivities. Apparently it very well might be a condition of concern. Don't  \"\\\n",
        "          \"stress, that is what I'm here for!\")\n",
        "    reply_frnd = input('How are things between you and your friends??\\n')\n",
        "    reply_family  = input('How is your connection with parents?\\n')\n",
        "    reply_worklife = input('How is your life at work/school going?\\n')\n",
        "    if(predict(reply_frnd)<=0.3):\n",
        "        frnd()\n",
        "    else:\n",
        "        if(predict(reply_family)<=0.3):\n",
        "            family()\n",
        "        else:\n",
        "            work()"
      ],
      "execution_count": 11,
      "outputs": []
    },
    {
      "cell_type": "code",
      "metadata": {
        "colab": {
          "base_uri": "https://localhost:8080/"
        },
        "id": "1Wp-ou3h7u16",
        "outputId": "9f91a268-f9cb-4e34-8e6d-187fb48b4c5d"
      },
      "source": [
        "greetings= ['Namaste🙏\\n  We are delighted to have you with us, I am here to help you.','Hello\\n Good to see you, hope you will find me useful.','Hii\\n Happy that you are here,feel free to talk with me']\n",
        "print(random.choice(greetings))\n",
        "name = input(' I will be glad to know your name.\\n')\n",
        "try:\n",
        "    preprocessed = [word for word in preprocess_string(name) if word not in (\n",
        "                    'people', 'call', 'friend')][0]\n",
        "    name = [word for word in strip_non_alphanum(name.lower()).split(\n",
        "            ) if preprocessed in word][0]\n",
        "except:\n",
        "    name = name.split()[0]\n",
        "name = name[0].upper() + name[1:]\n",
        "print(\"Hi \" + name + \"! My name's Danny. Let's begin with our session.\")\n",
        "reply = input(\"How are you doing?\\n\")\n",
        "if (reply==\"Who created you?\"):\n",
        "   print(\"Ayushi and Piyush from GEU\")\t\n",
        "elif(reply==\"How was your day?\"):\n",
        "   print(\"It was great!!\")\n",
        "elif(reply==\"What do you do?\"):\n",
        "   print(\"I am Danny the chatbot, I am like a virtual friend of your's, you can talk with me whenever you want I am always here for you. \")\n",
        "if (predict(reply) >= 0.55):\n",
        "    reply = input('That is great. Are you as a rule this glad, or are there '\\\n",
        "                     'a few stresses that you need to talk about?\\n') \n",
        "    if (predict(reply)>=0.7):\n",
        "        reply = input('You appear to be extremely content. Wanna sign off?\\n')\n",
        "        if(predict(reply)>=0.7):\n",
        "            print('Ok, bye ' + name + '!')\n",
        "        else:\n",
        "            reply = input('Is there something annoying you? Would you '\\\n",
        "                             'share it with me?\\n') \n",
        "            if(predict(reply)>=0.7):\n",
        "                print(\"That is alright. It was pleasant conversing with you. You can talk \"\\\n",
        "                      \"with me whenever you want.\\n Bye\" + name + \"!\")\n",
        "            else:\n",
        "                upset1()\n",
        "    else:\n",
        "        upset1()\n",
        "else:\n",
        "    upset3()"
      ],
      "execution_count": 12,
      "outputs": [
        {
          "output_type": "stream",
          "text": [
            "Hello\n",
            " Good to see you, hope you will find me useful.\n",
            " I will be glad to know your name.\n",
            "tom\n",
            "Hi Tom! My name's Danny. Let's begin with our session.\n",
            "How are you doing?\n",
            "not good\n",
            "Feel comfortable. Would you have the alternative to quickly clarify about your day?\n",
            "i studied full day\n",
            "What work takes large part of your day?\n",
            "studying\n",
            "It would appear that you may feel great talking about yourself. Can you share your feelings?\n",
            "suicidal thoughts\n",
            "My sensitivities. Apparently it very well might be a condition of concern. Don't  stress, that is what I'm here for!\n",
            "How are things between you and your friends??\n",
            "bad\n",
            "How is your connection with parents?\n",
            "worst\n",
            "How is your life at work/school going?\n",
            "bad\n",
            "Tom Don't take too much pressure. You should have some change in yourself and your needs.\n",
            "Do whatever it takes not to go facing futile commitments and obligations.\n",
            "Consult people whose feelings you trust, and get specific advice when issues emerge.\n",
            "You ought to use pressure organization methodologies and reliably pursue the best.\n",
            "These conditions arise in everyone's life and what is significant the most is taking the right decision at such minutes.\n",
            "It was great to have you with usI feel you also enjoyed the conversation.\n",
            "Best of fortunes for your bright futureIf you ever feel low again remember I will be there for you. Good Bye!\n"
          ],
          "name": "stdout"
        }
      ]
    }
  ]
}
